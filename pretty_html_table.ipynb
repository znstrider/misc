{
 "cells": [
  {
   "cell_type": "markdown",
   "id": "43389d0c",
   "metadata": {},
   "source": [
    "### Introduction\n",
    "\n",
    "##### Purpose of the Notebook:\n"
   ]
  },
  {
   "cell_type": "markdown",
   "id": "545bd0c3",
   "metadata": {},
   "source": [
    "Test the pretty_html_table package and convert it to an image to be shown with matplotlib"
   ]
  },
  {
   "cell_type": "markdown",
   "id": "260f409b",
   "metadata": {},
   "source": [
    "### 1. Imports\n",
    "##### 1.1 Import libraries and write settings."
   ]
  },
  {
   "cell_type": "code",
   "execution_count": 1,
   "id": "14cc38a7",
   "metadata": {},
   "outputs": [],
   "source": [
    "import pandas as pd\n",
    "import numpy as np\n",
    "\n",
    "# Options for pandas\n",
    "pd.options.display.max_columns = 50\n",
    "pd.options.display.max_rows = 50\n",
    "\n",
    "# increases resolution of plots\n",
    "%config InlineBackend.figure_format = \"retina\"\n",
    "%matplotlib inline"
   ]
  },
  {
   "cell_type": "code",
   "execution_count": 2,
   "id": "c17a3390",
   "metadata": {},
   "outputs": [],
   "source": [
    "from pretty_html_table import build_table\n",
    "from IPython.display import Markdown as md"
   ]
  },
  {
   "cell_type": "code",
   "execution_count": null,
   "id": "163d6c57",
   "metadata": {},
   "outputs": [],
   "source": [
    "df = pd.read_csv('https://projects.fivethirtyeight.com/soccer-api/club/spi_matches.csv')"
   ]
  },
  {
   "cell_type": "code",
   "execution_count": null,
   "id": "ccf2c4d5",
   "metadata": {},
   "outputs": [],
   "source": [
    "df = df.head()"
   ]
  },
  {
   "cell_type": "code",
   "execution_count": null,
   "id": "9c382de5",
   "metadata": {},
   "outputs": [],
   "source": [
    "table = build_table(df, 'grey_light')"
   ]
  },
  {
   "cell_type": "markdown",
   "id": "403a7417",
   "metadata": {},
   "source": [
    "we can show the table within markdown in notebooks.  \n",
    "we could also copy it into an html page."
   ]
  },
  {
   "cell_type": "code",
   "execution_count": null,
   "id": "e218547b",
   "metadata": {},
   "outputs": [],
   "source": [
    "md(table)"
   ]
  },
  {
   "cell_type": "markdown",
   "id": "8cc26dca",
   "metadata": {},
   "source": [
    "to convert the html output to an image  \n",
    "we need to install imgkit (https://github.com/jarrekk/imgkit)  \n",
    "and wkhtmltopdf (https://github.com/qoda/python-wkhtmltopdf) - NO LONGER MAINTAINED\n",
    "\n",
    "follow the installation instructions listed there."
   ]
  },
  {
   "cell_type": "code",
   "execution_count": null,
   "id": "42115f0f",
   "metadata": {},
   "outputs": [],
   "source": [
    "import imgkit"
   ]
  },
  {
   "cell_type": "code",
   "execution_count": null,
   "id": "5ad2aa99",
   "metadata": {},
   "outputs": [],
   "source": [
    "# we could also specify a filename in output_path to save the generated image\n",
    "img = imgkit.from_string(table, output_path=False)"
   ]
  },
  {
   "cell_type": "code",
   "execution_count": null,
   "id": "dd9e7229",
   "metadata": {},
   "outputs": [],
   "source": [
    "# we could use cv2\n",
    "#import cv2\n",
    "#decoded = cv2.imdecode(np.frombuffer(img, np.uint8), -1)"
   ]
  },
  {
   "cell_type": "code",
   "execution_count": null,
   "id": "cb27dd72",
   "metadata": {},
   "outputs": [],
   "source": [
    "# or use PIL to load the bytes object `img` to an image\n",
    "import io\n",
    "from PIL import Image\n",
    "image = np.array(Image.open(io.BytesIO(img)))"
   ]
  },
  {
   "cell_type": "code",
   "execution_count": null,
   "id": "e4efc000",
   "metadata": {},
   "outputs": [],
   "source": [
    "# now we can easily show this in our plots\n",
    "import matplotlib.pyplot as plt\n",
    "fig, ax = plt.subplot_mosaic(\"\"\"\n",
    "AA\n",
    "BC\n",
    "BC\n",
    "\"\"\", figsize=(12, 9))\n",
    "\n",
    "ax['A'].imshow(image);"
   ]
  },
  {
   "cell_type": "code",
   "execution_count": null,
   "id": "7d56beb8",
   "metadata": {},
   "outputs": [],
   "source": [
    "def create_table_image(df, color_scheme='grey_light', **kwargs):\n",
    "    \"\"\"creates an html table from a DataFrame\n",
    "    and returns a np.array image of that table\"\"\"\n",
    "    import imgkit\n",
    "    import io\n",
    "    from PIL import Image\n",
    "\n",
    "    table = build_table(df, color_scheme, **kwargs)\n",
    "    img = imgkit.from_string(table, output_path=False)\n",
    "    image = np.array(Image.open(io.BytesIO(img)))\n",
    "    return image"
   ]
  },
  {
   "cell_type": "code",
   "execution_count": null,
   "id": "e8a0f6cf",
   "metadata": {},
   "outputs": [],
   "source": [
    "plt.imshow(create_table_image(df))"
   ]
  },
  {
   "cell_type": "code",
   "execution_count": null,
   "id": "c19248f7",
   "metadata": {},
   "outputs": [],
   "source": []
  }
 ],
 "metadata": {
  "kernelspec": {
   "display_name": "Python 3",
   "language": "python",
   "name": "python3"
  },
  "language_info": {
   "codemirror_mode": {
    "name": "ipython",
    "version": 3
   },
   "file_extension": ".py",
   "mimetype": "text/x-python",
   "name": "python",
   "nbconvert_exporter": "python",
   "pygments_lexer": "ipython3",
   "version": "3.7.3"
  }
 },
 "nbformat": 4,
 "nbformat_minor": 5
}
